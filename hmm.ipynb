{
 "cells": [
  {
   "cell_type": "code",
   "execution_count": 1,
   "id": "4591dc0d-9a20-4c55-be73-585ee99ec761",
   "metadata": {},
   "outputs": [],
   "source": [
    "import yfinance as yf\n",
    "import numpy as np\n",
    "from hmmlearn import hmm\n",
    "import matplotlib.pyplot as plt"
   ]
  },
  {
   "cell_type": "code",
   "execution_count": 2,
   "id": "f962d22f-37f1-426b-add2-481b73056be2",
   "metadata": {},
   "outputs": [
    {
     "name": "stdout",
     "output_type": "stream",
     "text": [
      "[*********************100%***********************]  1 of 1 completed\n"
     ]
    }
   ],
   "source": [
    "# Load EURUSD data from Yahoo Finance\n",
    "eurusd = yf.download('EURUSD=X', start='2010-01-01', end='2022-03-01')"
   ]
  },
  {
   "cell_type": "code",
   "execution_count": 3,
   "id": "47015666-f57a-471c-ac9e-78c1bdf5d9ff",
   "metadata": {},
   "outputs": [],
   "source": [
    "# Create a function to generate the observation sequence\n",
    "def generate_sequence(data):\n",
    "    sequence = []\n",
    "    for i in range(len(data)-1):\n",
    "        if data['Close'][i+1] > data['Close'][i]:\n",
    "            sequence.append(1) # price went up\n",
    "        else:\n",
    "            sequence.append(0) # price went down\n",
    "    return np.array(sequence)"
   ]
  },
  {
   "cell_type": "code",
   "execution_count": 4,
   "id": "4771a710-3ce5-4972-b04d-531988aec160",
   "metadata": {},
   "outputs": [],
   "source": [
    "# Generate the observation sequence\n",
    "sequence = generate_sequence(eurusd)"
   ]
  },
  {
   "cell_type": "code",
   "execution_count": 5,
   "id": "ab96d081-79f1-4dad-a935-a8657d68fe4d",
   "metadata": {},
   "outputs": [],
   "source": [
    "# Define the HMM model\n",
    "model = hmm.GaussianHMM(n_components=2, covariance_type='full')"
   ]
  },
  {
   "cell_type": "code",
   "execution_count": 6,
   "id": "ec8d7ad1-4636-4837-ad20-1024167d2a54",
   "metadata": {},
   "outputs": [
    {
     "data": {
      "text/plain": [
       "GaussianHMM(covariance_type='full', n_components=2)"
      ]
     },
     "execution_count": 6,
     "metadata": {},
     "output_type": "execute_result"
    }
   ],
   "source": [
    "# Train the model\n",
    "model.fit(sequence.reshape(-1, 1))"
   ]
  },
  {
   "cell_type": "code",
   "execution_count": 7,
   "id": "f8d4dc8f-35da-4f90-9ae0-80160f32d60c",
   "metadata": {},
   "outputs": [],
   "source": [
    "# Predict the hidden states for the entire sequence\n",
    "hidden_states = model.predict(sequence.reshape(-1, 1))"
   ]
  },
  {
   "cell_type": "code",
   "execution_count": null,
   "id": "dae7ba88-53a0-4996-bc00-f3c96475a7f7",
   "metadata": {},
   "outputs": [],
   "source": [
    "# Visualize the hidden states\n",
    "fig, ax = plt.subplots(figsize=(15, 5))\n",
    "\n",
    "# Plot the EURUSD close price\n",
    "ax.plot(eurusd.index, eurusd['Close'], label='EURUSD')\n",
    "\n",
    "# Define colors for each hidden state\n",
    "colors = ['red', 'green']\n",
    "\n",
    "# Plot each hidden state as a shaded region\n",
    "for i in range(len(hidden_states)):\n",
    "    if i == 0:\n",
    "        ax.axvspan(eurusd.index[0], eurusd.index[i], facecolor=colors[hidden_states[i]], alpha=0.5)\n",
    "    else:\n",
    "        ax.axvspan(eurusd.index[i-1], eurusd.index[i], facecolor=colors[hidden_states[i]], alpha=0.5)\n",
    "\n",
    "# Set axis labels and legend\n",
    "ax.set_xlabel('Date')\n",
    "ax.set_ylabel('EURUSD Close Price')\n",
    "ax.legend()\n",
    "\n",
    "# Save the figure.\n",
    "# plt.savefig(f\"./Images/hiddenMarkovModel.jpg\")\n",
    "\n",
    "# Show the plot\n",
    "plt.show()"
   ]
  },
  {
   "cell_type": "code",
   "execution_count": null,
   "id": "8dd13500-695f-4770-bb5d-eed1ace8ca41",
   "metadata": {},
   "outputs": [],
   "source": []
  }
 ],
 "metadata": {
  "kernelspec": {
   "display_name": "Python [conda env:RGNY] *",
   "language": "python",
   "name": "conda-env-RGNY-py"
  },
  "language_info": {
   "codemirror_mode": {
    "name": "ipython",
    "version": 3
   },
   "file_extension": ".py",
   "mimetype": "text/x-python",
   "name": "python",
   "nbconvert_exporter": "python",
   "pygments_lexer": "ipython3",
   "version": "3.7.11"
  }
 },
 "nbformat": 4,
 "nbformat_minor": 5
}
